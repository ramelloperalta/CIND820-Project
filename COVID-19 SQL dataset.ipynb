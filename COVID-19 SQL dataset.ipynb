{
 "cells": [
  {
   "cell_type": "markdown",
   "id": "a5a6661f",
   "metadata": {},
   "source": [
    "## SQL Project\n",
    "- The following code in this section is for an accompanying SQL project"
   ]
  },
  {
   "cell_type": "code",
   "execution_count": 1,
   "id": "faf218dd",
   "metadata": {},
   "outputs": [],
   "source": [
    "import pandas as pd\n",
    "\n",
    "url = 'https://github.com/owid/covid-19-data/raw/master/public/data/owid-covid-data.csv'\n",
    "df = pd.read_csv(url)"
   ]
  },
  {
   "cell_type": "code",
   "execution_count": 2,
   "id": "6fd2c0ea",
   "metadata": {},
   "outputs": [],
   "source": [
    "subset1 = list(df.columns[:25])+['population']\n",
    "\n",
    "covid_deaths = df[subset1]"
   ]
  },
  {
   "cell_type": "code",
   "execution_count": 3,
   "id": "34cdc5eb",
   "metadata": {},
   "outputs": [],
   "source": [
    "subset2 = list(df.columns[0:4])+list(df.columns[25:])\n",
    "\n",
    "covid_vaccines = df[subset2]"
   ]
  },
  {
   "cell_type": "code",
   "execution_count": 4,
   "id": "6895c0a8",
   "metadata": {},
   "outputs": [],
   "source": [
    "out_path = 'C:/Users/Ramello/Documents/SQL data/'\n",
    "\n",
    "covid_deaths.to_csv(out_path + 'covid_deaths.csv')\n",
    "covid_vaccines.to_csv(out_path + 'covid_vaccines.csv')"
   ]
  }
 ],
 "metadata": {
  "kernelspec": {
   "display_name": "Python 3",
   "language": "python",
   "name": "python3"
  },
  "language_info": {
   "codemirror_mode": {
    "name": "ipython",
    "version": 3
   },
   "file_extension": ".py",
   "mimetype": "text/x-python",
   "name": "python",
   "nbconvert_exporter": "python",
   "pygments_lexer": "ipython3",
   "version": "3.8.8"
  }
 },
 "nbformat": 4,
 "nbformat_minor": 5
}
